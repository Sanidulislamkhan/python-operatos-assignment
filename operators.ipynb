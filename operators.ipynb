{
 "cells": [
  {
   "cell_type": "code",
   "execution_count": 1,
   "id": "9114167c-a6d4-41a4-a52b-8303465277e6",
   "metadata": {},
   "outputs": [
    {
     "name": "stdout",
     "output_type": "stream",
     "text": [
      "15\n",
      "5\n",
      "50\n",
      "2.0\n"
     ]
    }
   ],
   "source": [
    "# 1.Calculate the sum, difference, product, and quotient of two numbers\n",
    "x=10\n",
    "y=5\n",
    "print(x+y)\n",
    "print(x-y)\n",
    "print(x*y)\n",
    "print(x/y)"
   ]
  },
  {
   "cell_type": "code",
   "execution_count": 2,
   "id": "fedac535-1f02-42bd-a173-c7e1d7a76897",
   "metadata": {},
   "outputs": [
    {
     "name": "stdout",
     "output_type": "stream",
     "text": [
      "25\n",
      "10\n",
      "100\n",
      "5.0\n",
      "0.0\n"
     ]
    }
   ],
   "source": [
    "# 2. Perform various assignment operations on a variable.\n",
    "a=20\n",
    "a+=5\n",
    "print(a)\n",
    "a-=15\n",
    "print(a)\n",
    "a*=10\n",
    "print(a)\n",
    "a/=20\n",
    "print(a)\n",
    "a%=5\n",
    "print(a)"
   ]
  },
  {
   "cell_type": "code",
   "execution_count": 3,
   "id": "e9bf1775-1c34-4422-8c2c-f6af25e29665",
   "metadata": {},
   "outputs": [
    {
     "name": "stdout",
     "output_type": "stream",
     "text": [
      "True\n",
      "False\n",
      "False\n",
      "True\n",
      "True\n",
      "False\n"
     ]
    }
   ],
   "source": [
    "# 3. Compare two numbers and print the results\n",
    "m=500\n",
    "n=300\n",
    "print(m>n)\n",
    "print(m<n)\n",
    "print(m==n)\n",
    "print(m!=n)\n",
    "print(m>=n)\n",
    "print(m<=n)"
   ]
  },
  {
   "cell_type": "code",
   "execution_count": 4,
   "id": "1b3653da-9d8c-4cdd-93d9-4770d60c075b",
   "metadata": {},
   "outputs": [
    {
     "name": "stdout",
     "output_type": "stream",
     "text": [
      "False\n",
      "True\n",
      "True\n"
     ]
    }
   ],
   "source": [
    "# 4. Check conditions using logical operators.\n",
    "u=20\n",
    "v=49\n",
    "print(u>v and u<v)\n",
    "print(u>v or u<v)\n",
    "print(not(u>v and u<v))"
   ]
  },
  {
   "cell_type": "code",
   "execution_count": 7,
   "id": "e07d868f-be96-47ca-9423-ae8b84a4fe40",
   "metadata": {},
   "outputs": [
    {
     "data": {
      "text/plain": [
       "False"
      ]
     },
     "execution_count": 7,
     "metadata": {},
     "output_type": "execute_result"
    }
   ],
   "source": [
    "# 5. Check the identity of variables.\n",
    "sub1=\"chem\"\n",
    "sub2=\"phy\"\n",
    "sub1 is sub2"
   ]
  },
  {
   "cell_type": "code",
   "execution_count": 11,
   "id": "b7c5abfe-e959-4991-b8e0-5ebbe77f0d83",
   "metadata": {},
   "outputs": [
    {
     "name": "stdout",
     "output_type": "stream",
     "text": [
      "5\n",
      "15\n",
      "11\n"
     ]
    }
   ],
   "source": [
    "# 6. Perform bitwise operations on any two integers\n",
    "print(5&5)\n",
    "print(10|5)\n",
    "print(8^3)"
   ]
  },
  {
   "cell_type": "code",
   "execution_count": 12,
   "id": "7d4c2cb6-d6d8-4ea3-811e-874136fe7928",
   "metadata": {},
   "outputs": [
    {
     "data": {
      "text/plain": [
       "-100"
      ]
     },
     "execution_count": 12,
     "metadata": {},
     "output_type": "execute_result"
    }
   ],
   "source": [
    "# 7. Use unary operators to change the sign of a number.\n",
    "x=100\n",
    "-x"
   ]
  },
  {
   "cell_type": "code",
   "execution_count": 14,
   "id": "182ea669-6f61-4ffc-942b-4bc0b5afdb44",
   "metadata": {},
   "outputs": [
    {
     "name": "stdout",
     "output_type": "stream",
     "text": [
      "num2 is greater\n"
     ]
    }
   ],
   "source": [
    "# 8. Use the ternary operator to assign values based on conditions\n",
    "num1=500\n",
    "num2=800\n",
    "result=\"num1 is greater\" if num1>num2 else \"num2 is greater\"\n",
    "print(result)"
   ]
  },
  {
   "cell_type": "code",
   "execution_count": null,
   "id": "c9fa73b8-caf1-4b7a-a410-7ff9ec6c88a3",
   "metadata": {},
   "outputs": [],
   "source": []
  }
 ],
 "metadata": {
  "kernelspec": {
   "display_name": "Python 3 (ipykernel)",
   "language": "python",
   "name": "python3"
  },
  "language_info": {
   "codemirror_mode": {
    "name": "ipython",
    "version": 3
   },
   "file_extension": ".py",
   "mimetype": "text/x-python",
   "name": "python",
   "nbconvert_exporter": "python",
   "pygments_lexer": "ipython3",
   "version": "3.10.8"
  }
 },
 "nbformat": 4,
 "nbformat_minor": 5
}
